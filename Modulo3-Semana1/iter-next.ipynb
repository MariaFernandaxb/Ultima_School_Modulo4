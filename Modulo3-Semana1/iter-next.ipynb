{
 "cells": [
  {
   "cell_type": "markdown",
   "metadata": {},
   "source": [
    "#Iterador - é usado sobre objetos iteráveis, como listas, tuplas, dicionários e conjuntos. Um objeto é considerado iterável se pudermos obter um iterador dele ou fazer um loop sobre ele. "
   ]
  },
  {
   "cell_type": "markdown",
   "metadata": {},
   "source": [
    "Exemplo : Iterando com a lista"
   ]
  },
  {
   "cell_type": "code",
   "execution_count": 1,
   "metadata": {},
   "outputs": [
    {
     "name": "stdout",
     "output_type": "stream",
     "text": [
      "5\n",
      "4\n",
      "3\n",
      "2\n"
     ]
    }
   ],
   "source": [
    "lista = [5, 4 ,3 ,2]\n",
    "iterador = iter(lista)\n",
    "\n",
    "print(next(iterador)) #5\n",
    "print(next(iterador)) #4\n",
    "print(iterador.__next__()) #3\n",
    "print(iterador.__next__()) #2\n"
   ]
  },
  {
   "cell_type": "markdown",
   "metadata": {},
   "source": [
    "Usando for:\n"
   ]
  },
  {
   "cell_type": "code",
   "execution_count": 2,
   "metadata": {},
   "outputs": [
    {
     "name": "stdout",
     "output_type": "stream",
     "text": [
      "5\n",
      "4\n",
      "3\n",
      "2\n"
     ]
    }
   ],
   "source": [
    "for iterador in lista:\n",
    "    print(iterador)"
   ]
  },
  {
   "cell_type": "markdown",
   "metadata": {},
   "source": [
    "Usando While: "
   ]
  },
  {
   "cell_type": "code",
   "execution_count": 2,
   "metadata": {},
   "outputs": [
    {
     "name": "stdout",
     "output_type": "stream",
     "text": [
      "5\n",
      "4\n",
      "3\n",
      "2\n"
     ]
    }
   ],
   "source": [
    "lista = [5, 4 ,3 ,2]\n",
    "iterador = iter(lista)\n",
    "\n",
    "while True:\n",
    "    try:\n",
    "        i = next(iterador)\n",
    "        print(i)\n",
    "    except StopIteration:\n",
    "        break\n",
    "\n",
    "   "
   ]
  },
  {
   "cell_type": "markdown",
   "metadata": {},
   "source": [
    "Usando classes : "
   ]
  },
  {
   "cell_type": "code",
   "execution_count": 47,
   "metadata": {},
   "outputs": [
    {
     "name": "stdout",
     "output_type": "stream",
     "text": [
      "0\n",
      "1\n",
      "2\n",
      "3\n",
      "4\n"
     ]
    }
   ],
   "source": [
    "class Contagem:\n",
    "    #Classe que implementa um interador de numeros sequenciais até um valor especificado\n",
    "    def __init__(self, max=0):        \n",
    "        self.max = max\n",
    "\n",
    "    def __iter__(self):\n",
    "        self.n = 0\n",
    "        return self\n",
    "    \n",
    "    def __next__(self): \n",
    "       if self.n < self.max:\n",
    "        self.n += 1 \n",
    "        return self.n\n",
    "       else: \n",
    "          raise StopIteration\n",
    "#perguntar ao usuario o valor maximo da sequencia de numeros \n",
    "valor_max = int(input(\"Digite o valor máximo da sequencia: \"))\n",
    "#criar objeto\n",
    "num = Contagem(valor_max)\n",
    "\n",
    "#criar um interador a partir do objeto\n",
    "i = iter(num)\n",
    "\n",
    "# Usar função next() para obter o proximo elemento do iterador:\n",
    "# print(next(i))\n",
    "\n",
    "\n",
    "#usando for\n",
    "for i in range(valor_max):\n",
    "    print(i)\n",
    "\n"
   ]
  },
  {
   "cell_type": "code",
   "execution_count": null,
   "metadata": {},
   "outputs": [],
   "source": []
  }
 ],
 "metadata": {
  "kernelspec": {
   "display_name": "Python 3",
   "language": "python",
   "name": "python3"
  },
  "language_info": {
   "codemirror_mode": {
    "name": "ipython",
    "version": 3
   },
   "file_extension": ".py",
   "mimetype": "text/x-python",
   "name": "python",
   "nbconvert_exporter": "python",
   "pygments_lexer": "ipython3",
   "version": "3.11.5"
  },
  "orig_nbformat": 4
 },
 "nbformat": 4,
 "nbformat_minor": 2
}
